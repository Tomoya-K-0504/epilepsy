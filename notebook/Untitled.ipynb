{
 "cells": [
  {
   "cell_type": "markdown",
   "metadata": {},
   "source": [
    "# TUH_EEG annotation code"
   ]
  },
  {
   "cell_type": "code",
   "execution_count": 1,
   "metadata": {
    "ExecuteTime": {
     "end_time": "2019-05-04T08:48:38.364654Z",
     "start_time": "2019-05-04T08:48:37.649589Z"
    }
   },
   "outputs": [],
   "source": [
    "import eeglibrary\n",
    "import pyedflib\n",
    "import numpy as np\n",
    "from pathlib import Path"
   ]
  },
  {
   "cell_type": "code",
   "execution_count": 85,
   "metadata": {
    "ExecuteTime": {
     "end_time": "2019-05-10T06:34:03.851623Z",
     "start_time": "2019-05-10T06:34:03.843122Z"
    }
   },
   "outputs": [],
   "source": [
    "DATA_DIR = Path('../input/')\n",
    "SAVE_DIR = DATA_DIR / 'labeled_data'\n",
    "SAVE_DIR.mkdir(exist_ok=True)"
   ]
  },
  {
   "cell_type": "code",
   "execution_count": 86,
   "metadata": {
    "ExecuteTime": {
     "end_time": "2019-05-10T06:36:03.913664Z",
     "start_time": "2019-05-10T06:36:03.905218Z"
    }
   },
   "outputs": [],
   "source": [
    "target_dir = DATA_DIR / '009/00000906/s005_2003_04_27'\n",
    "label_path = target_dir / '00000906_s005_t000.tse_bi'\n",
    "edf_path = target_dir / '00000906_s005_t000.edf'"
   ]
  },
  {
   "cell_type": "code",
   "execution_count": 4,
   "metadata": {
    "ExecuteTime": {
     "end_time": "2019-05-04T08:48:38.389622Z",
     "start_time": "2019-05-04T08:48:38.380735Z"
    }
   },
   "outputs": [
    {
     "name": "stdout",
     "output_type": "stream",
     "text": [
      "version = tse_v1.0.0\n",
      "\n",
      "0.0000 21.0550 bckg 1.0000\n",
      "21.0550 53.3450 seiz 1.0000\n",
      "53.3450 600.0000 bckg 1.0000\n",
      "\n"
     ]
    }
   ],
   "source": [
    "with open(label_path, 'r') as f:\n",
    "    label_info = f.read()\n",
    "print(label_info)"
   ]
  },
  {
   "cell_type": "code",
   "execution_count": 5,
   "metadata": {
    "ExecuteTime": {
     "end_time": "2019-05-04T08:48:38.399457Z",
     "start_time": "2019-05-04T08:48:38.390635Z"
    }
   },
   "outputs": [
    {
     "name": "stdout",
     "output_type": "stream",
     "text": [
      "/home/tomoya/workspace/research/brain/epilepsy/input/009/00000906/s005_2003_04_27/00000906_s005_t000.edf\n"
     ]
    }
   ],
   "source": [
    "print(edf_path)\n",
    "edfreader = pyedflib.EdfReader(str(edf_path))"
   ]
  },
  {
   "cell_type": "code",
   "execution_count": 7,
   "metadata": {
    "ExecuteTime": {
     "end_time": "2019-05-04T08:48:50.230800Z",
     "start_time": "2019-05-04T08:48:49.945285Z"
    }
   },
   "outputs": [
    {
     "data": {
      "text/plain": [
       "[<matplotlib.lines.Line2D at 0x7f588ea3f518>]"
      ]
     },
     "execution_count": 7,
     "metadata": {},
     "output_type": "execute_result"
    },
    {
     "data": {
      "image/png": "[encoded data removed]",
      "text/plain": [
       "<Figure size 432x288 with 1 Axes>"
      ]
     },
     "metadata": {
      "needs_background": "light"
     },
     "output_type": "display_data"
    }
   ],
   "source": [
    "import matplotlib.pyplot as plt\n",
    "%matplotlib inline\n",
    "plt.plot(edfreader.readSignal(2))"
   ]
  },
  {
   "cell_type": "code",
   "execution_count": 8,
   "metadata": {
    "ExecuteTime": {
     "end_time": "2019-05-04T08:49:05.472044Z",
     "start_time": "2019-05-04T08:49:05.102823Z"
    }
   },
   "outputs": [],
   "source": [
    "n = edfreader.signals_in_file\n",
    "signal_labels = edfreader.getSignalLabels()\n",
    "sigbufs = np.zeros((n, edfreader.getNSamples()[0]))\n",
    "for i in np.arange(n):\n",
    "    sigbufs[i, :] = edfreader.readSignal(i)"
   ]
  },
  {
   "cell_type": "code",
   "execution_count": 47,
   "metadata": {
    "ExecuteTime": {
     "end_time": "2019-05-10T05:51:34.790025Z",
     "start_time": "2019-05-10T05:51:34.786869Z"
    }
   },
   "outputs": [
    {
     "data": {
      "text/plain": [
       "['EEG FP1-REF',\n",
       " 'EEG FP2-REF',\n",
       " 'EEG F3-REF',\n",
       " 'EEG F4-REF',\n",
       " 'EEG C3-REF',\n",
       " 'EEG C4-REF',\n",
       " 'EEG P3-REF',\n",
       " 'EEG P4-REF',\n",
       " 'EEG O1-REF',\n",
       " 'EEG O2-REF',\n",
       " 'EEG F7-REF',\n",
       " 'EEG F8-REF',\n",
       " 'EEG T3-REF',\n",
       " 'EEG T4-REF',\n",
       " 'EEG T5-REF',\n",
       " 'EEG T6-REF',\n",
       " 'EEG FZ-REF',\n",
       " 'EEG CZ-REF',\n",
       " 'EEG PZ-REF',\n",
       " 'EEG EKG-REF',\n",
       " 'EEG A1-REF',\n",
       " 'EEG A2-REF',\n",
       " 'EEG T1-REF',\n",
       " 'EEG T2-REF',\n",
       " 'EEG SP1-REF',\n",
       " 'EEG SP2-REF',\n",
       " 'EEG LUC-REF',\n",
       " 'EEG RLC-REF',\n",
       " 'EEG RESP1-REF',\n",
       " 'EEG RESP2-REF',\n",
       " 'EEG 31-REF',\n",
       " 'EEG 32-REF']"
      ]
     },
     "execution_count": 47,
     "metadata": {},
     "output_type": "execute_result"
    }
   ],
   "source": [
    "signal_labels"
   ]
  },
  {
   "cell_type": "code",
   "execution_count": 48,
   "metadata": {
    "ExecuteTime": {
     "end_time": "2019-05-10T05:58:26.133706Z",
     "start_time": "2019-05-10T05:58:26.130755Z"
    }
   },
   "outputs": [
    {
     "data": {
      "text/plain": [
       "numpy.ndarray"
      ]
     },
     "execution_count": 48,
     "metadata": {},
     "output_type": "execute_result"
    }
   ],
   "source": [
    "type(sigbufs)"
   ]
  },
  {
   "cell_type": "code",
   "execution_count": 11,
   "metadata": {
    "ExecuteTime": {
     "end_time": "2019-05-04T08:51:11.803795Z",
     "start_time": "2019-05-04T08:51:11.799701Z"
    }
   },
   "outputs": [
    {
     "data": {
      "text/plain": [
       "['__class__',\n",
       " '__del__',\n",
       " '__delattr__',\n",
       " '__dict__',\n",
       " '__dir__',\n",
       " '__doc__',\n",
       " '__enter__',\n",
       " '__eq__',\n",
       " '__exit__',\n",
       " '__format__',\n",
       " '__ge__',\n",
       " '__getattribute__',\n",
       " '__gt__',\n",
       " '__hash__',\n",
       " '__init__',\n",
       " '__init_subclass__',\n",
       " '__le__',\n",
       " '__lt__',\n",
       " '__module__',\n",
       " '__ne__',\n",
       " '__new__',\n",
       " '__reduce__',\n",
       " '__reduce_ex__',\n",
       " '__repr__',\n",
       " '__setattr__',\n",
       " '__setstate__',\n",
       " '__sizeof__',\n",
       " '__str__',\n",
       " '__subclasshook__',\n",
       " '__weakref__',\n",
       " '_close',\n",
       " '_convert_string',\n",
       " '_get_float',\n",
       " 'admincode',\n",
       " 'annotations_in_file',\n",
       " 'birthdate',\n",
       " 'check_open_ok',\n",
       " 'datarecord_duration',\n",
       " 'datarecords_in_file',\n",
       " 'digital_max',\n",
       " 'digital_min',\n",
       " 'equipment',\n",
       " 'file_duration',\n",
       " 'file_info',\n",
       " 'file_info_long',\n",
       " 'file_name',\n",
       " 'gender',\n",
       " 'getAdmincode',\n",
       " 'getBirthdate',\n",
       " 'getDigitalMaximum',\n",
       " 'getDigitalMinimum',\n",
       " 'getEquipment',\n",
       " 'getFileDuration',\n",
       " 'getGender',\n",
       " 'getHeader',\n",
       " 'getLabel',\n",
       " 'getNSamples',\n",
       " 'getPatientAdditional',\n",
       " 'getPatientCode',\n",
       " 'getPatientName',\n",
       " 'getPhysicalDimension',\n",
       " 'getPhysicalMaximum',\n",
       " 'getPhysicalMinimum',\n",
       " 'getPrefilter',\n",
       " 'getRecordingAdditional',\n",
       " 'getSampleFrequencies',\n",
       " 'getSampleFrequency',\n",
       " 'getSignalHeader',\n",
       " 'getSignalHeaders',\n",
       " 'getSignalLabels',\n",
       " 'getStartdatetime',\n",
       " 'getTechnician',\n",
       " 'getTransducer',\n",
       " 'handle',\n",
       " 'load_datarecord',\n",
       " 'make_buffer',\n",
       " 'open',\n",
       " 'patient',\n",
       " 'patient_additional',\n",
       " 'patientcode',\n",
       " 'patientname',\n",
       " 'physical_dimension',\n",
       " 'physical_max',\n",
       " 'physical_min',\n",
       " 'prefilter',\n",
       " 'readAnnotations',\n",
       " 'readSignal',\n",
       " 'read_annotation',\n",
       " 'read_digital_signal',\n",
       " 'readsignal',\n",
       " 'recording_additional',\n",
       " 'samplefrequency',\n",
       " 'samples_in_datarecord',\n",
       " 'samples_in_file',\n",
       " 'signal_label',\n",
       " 'signals_in_file',\n",
       " 'startdate_day',\n",
       " 'startdate_month',\n",
       " 'startdate_year',\n",
       " 'starttime_hour',\n",
       " 'starttime_minute',\n",
       " 'starttime_second',\n",
       " 'technician',\n",
       " 'transducer']"
      ]
     },
     "execution_count": 11,
     "metadata": {},
     "output_type": "execute_result"
    }
   ],
   "source": [
    "dir(edfreader)"
   ]
  },
  {
   "cell_type": "code",
   "execution_count": 131,
   "metadata": {
    "ExecuteTime": {
     "end_time": "2019-05-11T02:37:55.170951Z",
     "start_time": "2019-05-11T02:37:55.164043Z"
    }
   },
   "outputs": [
    {
     "name": "stdout",
     "output_type": "stream",
     "text": [
      "00000906\n"
     ]
    },
    {
     "data": {
      "text/plain": [
       "600"
      ]
     },
     "execution_count": 131,
     "metadata": {},
     "output_type": "execute_result"
    }
   ],
   "source": [
    "pat_id = edfreader.patient.decode().split()[0]\n",
    "print(pat_id)\n",
    "edfreader.patient.decode()\n",
    "# edfreader.getFileDuration()"
   ]
  },
  {
   "cell_type": "markdown",
   "metadata": {},
   "source": [
    "### TUH_EEG Infomation\n",
    "- Sample rate: 400 Hz\n",
    "- One edf file length: 600 sec\n",
    "- Total signals: 240000\n",
    "- labeled by time [sec]"
   ]
  },
  {
   "cell_type": "code",
   "execution_count": 35,
   "metadata": {
    "ExecuteTime": {
     "end_time": "2019-05-04T09:12:47.592782Z",
     "start_time": "2019-05-04T09:12:47.588740Z"
    }
   },
   "outputs": [
    {
     "name": "stdout",
     "output_type": "stream",
     "text": [
      "['null', 'spsw', 'gped', 'pled', 'eybl', 'artf', 'bckg', 'seiz', 'fnsz', 'gnsz', 'spsz', 'cpsz', 'absz', 'tnsz', 'cnsz', 'tcsz', 'atsz', 'mysz', 'nesz', 'intr', 'slow', 'eyem', 'chew', 'shiv', 'musc', 'elpp', 'elst']\n"
     ]
    }
   ],
   "source": [
    "label_classes = \"\"\"NULL\n",
    "SPSW\n",
    "GPED\n",
    "PLED\n",
    "EYBL\n",
    "ARTF\n",
    "BCKG\n",
    "SEIZ\n",
    "FNSZ\n",
    "GNSZ\n",
    "SPSZ\n",
    "CPSZ\n",
    "ABSZ\n",
    "TNSZ\n",
    "CNSZ\n",
    "TCSZ\n",
    "ATSZ\n",
    "MYSZ\n",
    "NESZ\n",
    "INTR\n",
    "SLOW\n",
    "EYEM\n",
    "CHEW\n",
    "SHIV\n",
    "MUSC\n",
    "ELPP\n",
    "ELST\"\"\".lower().split('\\n')\n",
    "print(label_classes)"
   ]
  },
  {
   "cell_type": "code",
   "execution_count": 83,
   "metadata": {
    "ExecuteTime": {
     "end_time": "2019-05-10T06:18:58.552707Z",
     "start_time": "2019-05-10T06:18:58.549040Z"
    }
   },
   "outputs": [
    {
     "data": {
      "text/plain": [
       "400"
      ]
     },
     "execution_count": 83,
     "metadata": {},
     "output_type": "execute_result"
    }
   ],
   "source": [
    "sr = edfreader.getSampleFrequencies()[]\n",
    "sr"
   ]
  },
  {
   "cell_type": "code",
   "execution_count": null,
   "metadata": {},
   "outputs": [],
   "source": []
  },
  {
   "cell_type": "markdown",
   "metadata": {},
   "source": [
    "### 10秒毎に区切っていく.\n",
    "発作がある場合は、その時間を優先して区切る。\n",
    "時系列データなので、連続性はとても大事。\n",
    "2種類のデータを用意する\n",
    "- 発作やBKGのラベルは10秒間必ず入っているものとする。発作間欠期も同様。\n",
    "- 単純に10秒ごとに分割し、5秒以上発作が入っているものを発作のラベル、5秒以上BKGが入っているものをBKGのラベル、という付け方\n",
    "- durationを10から変えてみる\n",
    "- 他の特徴量も使用する。年齢と性別、できれば平均心拍も"
   ]
  },
  {
   "cell_type": "markdown",
   "metadata": {},
   "source": [
    "#### 発作やBKGのラベルは10秒間必ず入っているものとする。発作間欠期も同様。"
   ]
  },
  {
   "cell_type": "code",
   "execution_count": 103,
   "metadata": {
    "ExecuteTime": {
     "end_time": "2019-05-10T08:30:37.461886Z",
     "start_time": "2019-05-10T08:30:37.453842Z"
    }
   },
   "outputs": [
    {
     "data": {
      "text/plain": [
       "(32, 240000)"
      ]
     },
     "execution_count": 103,
     "metadata": {},
     "output_type": "execute_result"
    }
   ],
   "source": [
    "sigbufs.shape"
   ]
  },
  {
   "cell_type": "code",
   "execution_count": 108,
   "metadata": {
    "ExecuteTime": {
     "end_time": "2019-05-10T08:32:22.586604Z",
     "start_time": "2019-05-10T08:32:22.135026Z"
    }
   },
   "outputs": [
    {
     "name": "stdout",
     "output_type": "stream",
     "text": [
      "0.0000 21.0550 bckg\n",
      "21.0550 53.3450 seiz\n",
      "53.3450 600.0000 bckg\n",
      "0.0000 21.0550 bckg\n",
      "21.0550 53.3450 seiz\n",
      "53.3450 600.0000 bckg\n"
     ]
    }
   ],
   "source": [
    "duration = 10\n",
    "mask = np.ones(sigbufs.shape, dtype=bool)\n",
    "\n",
    "# 発作がある場合\n",
    "for info in label_info.split('\\n')[2:-1]:\n",
    "    start, end, label, _ = info.split()\n",
    "    mask[:, int(float(start)*sr):int(float(end)*sr)] = False\n",
    "    # 10秒分切り出す。足りなければ保存しない\n",
    "    for start_sec in np.arange(float(start), float(end), duration):\n",
    "        if start_sec + duration > float(end):\n",
    "            break\n",
    "        start_idx, end_idx = int(start_sec*sr), int((start_sec+duration)*sr)\n",
    "        signals = sigbufs[:, start_idx:end_idx]\n",
    "        \n",
    "        # ファイルに保存\n",
    "        filename = '{}_{}_{}_{}_{}.npy'.format(pat_id, target_dir.name, start_idx, end_idx, label)\n",
    "        np.save(SAVE_DIR / filename, signals)\n",
    "    print(start, end, label)\n",
    "    \n",
    "# 発作以外の区間\n",
    "for info in label_info.split('\\n')[2:-1]:\n",
    "    start, end, label, _ = info.split()\n",
    "    \n",
    "    # start以前と\n",
    "    for start_sec in np.arange(float(start), float(end), duration):\n",
    "        if start_sec + duration > float(end):\n",
    "            break\n",
    "        start_idx, end_idx = int(start_sec*sr), int((start_sec+duration)*sr)\n",
    "        signals = sigbufs[:, start_idx:end_idx]\n",
    "        \n",
    "        # ファイルに保存\n",
    "        filename = '{}_{}_{}_{}_{}.npy'.format(pat_id, target_dir.name, start_idx, end_idx, label)\n",
    "#         np.save(SAVE_DIR / filename, signals)\n",
    "    print(start, end, label)\n"
   ]
  },
  {
   "cell_type": "code",
   "execution_count": 109,
   "metadata": {
    "ExecuteTime": {
     "end_time": "2019-05-10T08:32:54.690860Z",
     "start_time": "2019-05-10T08:32:54.679301Z"
    }
   },
   "outputs": [
    {
     "data": {
      "text/plain": [
       "array([[False, False, False, ..., False, False, False],\n",
       "       [False, False, False, ..., False, False, False],\n",
       "       [False, False, False, ..., False, False, False],\n",
       "       ...,\n",
       "       [False, False, False, ..., False, False, False],\n",
       "       [False, False, False, ..., False, False, False],\n",
       "       [False, False, False, ..., False, False, False]])"
      ]
     },
     "execution_count": 109,
     "metadata": {},
     "output_type": "execute_result"
    }
   ],
   "source": [
    "mask"
   ]
  },
  {
   "cell_type": "markdown",
   "metadata": {},
   "source": [
    "#### 単純に10秒ごとに分割し、5秒以上発作が入っているものを発作のラベル、5秒以上BKGが入っているものをBKGのラベル、という付け方"
   ]
  },
  {
   "cell_type": "markdown",
   "metadata": {},
   "source": [
    "<img src=\"IMG_0268.PNG\">"
   ]
  },
  {
   "cell_type": "code",
   "execution_count": 124,
   "metadata": {
    "ExecuteTime": {
     "end_time": "2019-05-10T23:44:57.830403Z",
     "start_time": "2019-05-10T23:44:57.825249Z"
    }
   },
   "outputs": [],
   "source": [
    "# label_info = [info.split()[:-1] for info in label_info.split('\\n')[2:-1]]\n",
    "label_info = [(float(start), float(end), label) for start, end, label in label_info]\n"
   ]
  },
  {
   "cell_type": "code",
   "execution_count": 126,
   "metadata": {
    "ExecuteTime": {
     "end_time": "2019-05-10T23:47:10.849473Z",
     "start_time": "2019-05-10T23:47:10.843344Z"
    }
   },
   "outputs": [
    {
     "data": {
      "text/plain": [
       "[(0.0, 21.055, 'bckg'), (21.055, 53.345, 'seiz'), (53.345, 600.0, 'bckg')]"
      ]
     },
     "execution_count": 126,
     "metadata": {},
     "output_type": "execute_result"
    }
   ],
   "source": [
    "label_info"
   ]
  },
  {
   "cell_type": "code",
   "execution_count": 130,
   "metadata": {
    "ExecuteTime": {
     "end_time": "2019-05-10T23:50:09.593793Z",
     "start_time": "2019-05-10T23:50:09.581769Z"
    }
   },
   "outputs": [
    {
     "name": "stdout",
     "output_type": "stream",
     "text": [
      "0 10 bckg\n",
      "10 20 bckg\n",
      "20 30 seiz\n",
      "30 40 seiz\n",
      "40 50 seiz\n",
      "50 60 bckg\n",
      "60 70 bckg\n",
      "70 80 bckg\n",
      "80 90 bckg\n",
      "90 100 bckg\n",
      "100 110 bckg\n",
      "110 120 bckg\n",
      "120 130 bckg\n",
      "130 140 bckg\n",
      "140 150 bckg\n",
      "150 160 bckg\n",
      "160 170 bckg\n",
      "170 180 bckg\n",
      "180 190 bckg\n",
      "190 200 bckg\n",
      "200 210 bckg\n",
      "210 220 bckg\n",
      "220 230 bckg\n",
      "230 240 bckg\n",
      "240 250 bckg\n",
      "250 260 bckg\n",
      "260 270 bckg\n",
      "270 280 bckg\n",
      "280 290 bckg\n",
      "290 300 bckg\n",
      "300 310 bckg\n",
      "310 320 bckg\n",
      "320 330 bckg\n",
      "330 340 bckg\n",
      "340 350 bckg\n",
      "350 360 bckg\n",
      "360 370 bckg\n",
      "370 380 bckg\n",
      "380 390 bckg\n",
      "390 400 bckg\n"
     ]
    }
   ],
   "source": [
    "# label_info_list = [info.split() for info in label_info.split('\\n')[2:-1]]\n",
    "for s_sec in np.arange(0, 400, 10):\n",
    "    \n",
    "    true_label = 'null'\n",
    "    for info in label_info:\n",
    "        start, end, label = info\n",
    "        # true_labelを決定する。半分以上の時間を占めているラベルとする\n",
    "        if s_sec >= start and s_sec+10 <= end:\n",
    "            true_label = label\n",
    "        elif s_sec >= start and s_sec+10 >= end and end - s_sec >= 5:\n",
    "            true_label = label\n",
    "        elif s_sec <= start and s_sec+10 <= end and s_sec+10 - start >= 5:\n",
    "            true_label = label\n",
    "        elif s_sec <= start and s_sec+10 >= end and end - start >= 5:\n",
    "            true_label = label\n",
    "    print(s_sec, s_sec+10, true_label)\n",
    "    # ファイルに保存\n",
    "#     filename = '{}_{}_{}_{}_{}.npy'.format(pat_id, target_dir.name, start_idx, end_idx, label)\n",
    "#     np.save(SAVE_DIR / filename, sigbufs[s_sec*sr:(s_sec+10)*sr])"
   ]
  },
  {
   "cell_type": "code",
   "execution_count": null,
   "metadata": {},
   "outputs": [],
   "source": []
  }
 ],
 "metadata": {
  "kernelspec": {
   "display_name": "kaggle",
   "language": "python",
   "name": "kaggle"
  },
  "language_info": {
   "codemirror_mode": {
    "name": "ipython",
    "version": 3
   },
   "file_extension": ".py",
   "mimetype": "text/x-python",
   "name": "python",
   "nbconvert_exporter": "python",
   "pygments_lexer": "ipython3",
   "version": "3.6.8"
  }
 },
 "nbformat": 4,
 "nbformat_minor": 2
}
